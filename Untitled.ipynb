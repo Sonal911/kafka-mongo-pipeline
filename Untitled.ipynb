{
 "cells": [
  {
   "cell_type": "code",
   "execution_count": 2,
   "id": "dc59fa5c",
   "metadata": {},
   "outputs": [],
   "source": [
    "import sys\n",
    "import os\n",
    "\n",
    "# Set the path to your project root\n",
    "sys.path.append(r\"C:\\Users\\soshinde\\OneDrive - Momentum Group\\Documents\\Study_Material\\takehome-assignment\\fp-de-home-assignment\")\n"
   ]
  },
  {
   "cell_type": "code",
   "execution_count": 4,
   "id": "c4074f10",
   "metadata": {},
   "outputs": [],
   "source": [
    "import unittest\n",
    "from unittest.mock import patch, MagicMock\n",
    "from producer import producer\n",
    "\n",
    "class TestProducer(unittest.TestCase):\n",
    "\n",
    "    @patch(\"producer.producer.KafkaProducer\")\n",
    "    def test_produce_message(self, mock_producer_class):\n",
    "        mock_producer = MagicMock()\n",
    "        mock_producer_class.return_value = mock_producer\n",
    "\n",
    "        producer.main()  # Call your main function\n",
    "\n",
    "        assert mock_producer.send.called\n",
    "        mock_producer.send.assert_called_with(\n",
    "            'sensor-input', value=unittest.mock.ANY\n",
    "        )\n"
   ]
  },
  {
   "cell_type": "code",
   "execution_count": 5,
   "id": "969a0612",
   "metadata": {},
   "outputs": [],
   "source": [
    "import unittest\n",
    "from unittest.mock import patch, MagicMock\n",
    "from consumer import consumer\n",
    "\n",
    "class TestConsumer(unittest.TestCase):\n",
    "\n",
    "    @patch(\"consumer.consumer.KafkaConsumer\")\n",
    "    def test_kafka_consumer_initialization(self, mock_consumer_class):\n",
    "        mock_consumer = MagicMock()\n",
    "        mock_consumer.__iter__.return_value = iter([\n",
    "            MagicMock(value=b'{\"sensorId\": \"1\", \"averageValue\": 50.2}')\n",
    "        ])\n",
    "        mock_consumer_class.return_value = mock_consumer\n",
    "\n",
    "        consumer.main()\n",
    "\n",
    "        assert mock_consumer_class.called\n"
   ]
  },
  {
   "cell_type": "code",
   "execution_count": 6,
   "id": "866d9900",
   "metadata": {},
   "outputs": [
    {
     "ename": "ModuleNotFoundError",
     "evalue": "No module named 'pymongo'",
     "output_type": "error",
     "traceback": [
      "\u001b[1;31m---------------------------------------------------------------------------\u001b[0m",
      "\u001b[1;31mModuleNotFoundError\u001b[0m                       Traceback (most recent call last)",
      "\u001b[1;32m~\\AppData\\Local\\Temp\\ipykernel_20872\\349568617.py\u001b[0m in \u001b[0;36m<module>\u001b[1;34m\u001b[0m\n\u001b[0;32m      1\u001b[0m \u001b[1;32mimport\u001b[0m \u001b[0munittest\u001b[0m\u001b[1;33m\u001b[0m\u001b[1;33m\u001b[0m\u001b[0m\n\u001b[0;32m      2\u001b[0m \u001b[1;32mfrom\u001b[0m \u001b[0munittest\u001b[0m\u001b[1;33m.\u001b[0m\u001b[0mmock\u001b[0m \u001b[1;32mimport\u001b[0m \u001b[0mpatch\u001b[0m\u001b[1;33m,\u001b[0m \u001b[0mMagicMock\u001b[0m\u001b[1;33m\u001b[0m\u001b[1;33m\u001b[0m\u001b[0m\n\u001b[1;32m----> 3\u001b[1;33m \u001b[1;32mfrom\u001b[0m \u001b[0mconsumer\u001b[0m \u001b[1;32mimport\u001b[0m \u001b[0mconsumer_to_mongo\u001b[0m\u001b[1;33m\u001b[0m\u001b[1;33m\u001b[0m\u001b[0m\n\u001b[0m\u001b[0;32m      4\u001b[0m \u001b[1;33m\u001b[0m\u001b[0m\n\u001b[0;32m      5\u001b[0m \u001b[1;32mclass\u001b[0m \u001b[0mTestConsumerToMongo\u001b[0m\u001b[1;33m(\u001b[0m\u001b[0munittest\u001b[0m\u001b[1;33m.\u001b[0m\u001b[0mTestCase\u001b[0m\u001b[1;33m)\u001b[0m\u001b[1;33m:\u001b[0m\u001b[1;33m\u001b[0m\u001b[1;33m\u001b[0m\u001b[0m\n",
      "\u001b[1;32m~\\OneDrive - Momentum Group\\Documents\\Study_Material\\takehome-assignment\\fp-de-home-assignment\\consumer\\consumer_to_mongo.py\u001b[0m in \u001b[0;36m<module>\u001b[1;34m\u001b[0m\n\u001b[0;32m      1\u001b[0m \u001b[1;32mfrom\u001b[0m \u001b[0mkafka\u001b[0m \u001b[1;32mimport\u001b[0m \u001b[0mKafkaConsumer\u001b[0m\u001b[1;33m\u001b[0m\u001b[1;33m\u001b[0m\u001b[0m\n\u001b[1;32m----> 2\u001b[1;33m \u001b[1;32mfrom\u001b[0m \u001b[0mpymongo\u001b[0m \u001b[1;32mimport\u001b[0m \u001b[0mMongoClient\u001b[0m\u001b[1;33m\u001b[0m\u001b[1;33m\u001b[0m\u001b[0m\n\u001b[0m\u001b[0;32m      3\u001b[0m \u001b[1;32mimport\u001b[0m \u001b[0mjson\u001b[0m\u001b[1;33m\u001b[0m\u001b[1;33m\u001b[0m\u001b[0m\n\u001b[0;32m      4\u001b[0m \u001b[1;32mimport\u001b[0m \u001b[0mos\u001b[0m\u001b[1;33m\u001b[0m\u001b[1;33m\u001b[0m\u001b[0m\n\u001b[0;32m      5\u001b[0m \u001b[1;33m\u001b[0m\u001b[0m\n",
      "\u001b[1;31mModuleNotFoundError\u001b[0m: No module named 'pymongo'"
     ]
    }
   ],
   "source": [
    "import unittest\n",
    "from unittest.mock import patch, MagicMock\n",
    "from consumer import consumer_to_mongo\n",
    "\n",
    "class TestConsumerToMongo(unittest.TestCase):\n",
    "\n",
    "    @patch(\"consumer_to_mongo.MongoClient\")\n",
    "    @patch(\"consumer_to_mongo.KafkaConsumer\")\n",
    "    def test_consume_and_insert(self, mock_kafka_consumer_class, mock_mongo_client_class):\n",
    "        mock_consumer = MagicMock()\n",
    "        mock_consumer.__iter__.return_value = iter([\n",
    "            MagicMock(value={\"sensorId\": \"123\", \"averageValue\": 45.6})\n",
    "        ])\n",
    "        mock_kafka_consumer_class.return_value = mock_consumer\n",
    "\n",
    "        mock_mongo = MagicMock()\n",
    "        mock_mongo_client_class.return_value = mock_mongo\n",
    "        mock_collection = MagicMock()\n",
    "        mock_mongo.__getitem__.return_value.__getitem__.return_value = mock_collection\n",
    "\n",
    "        consumer_to_mongo.main()\n",
    "\n",
    "        mock_collection.insert_one.assert_called_once()\n"
   ]
  },
  {
   "cell_type": "code",
   "execution_count": null,
   "id": "9b4496f1",
   "metadata": {},
   "outputs": [],
   "source": []
  }
 ],
 "metadata": {
  "kernelspec": {
   "display_name": "Python 3 (ipykernel)",
   "language": "python",
   "name": "python3"
  },
  "language_info": {
   "codemirror_mode": {
    "name": "ipython",
    "version": 3
   },
   "file_extension": ".py",
   "mimetype": "text/x-python",
   "name": "python",
   "nbconvert_exporter": "python",
   "pygments_lexer": "ipython3",
   "version": "3.9.13"
  }
 },
 "nbformat": 4,
 "nbformat_minor": 5
}
